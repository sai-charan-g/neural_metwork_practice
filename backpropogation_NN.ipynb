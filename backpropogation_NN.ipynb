{
  "nbformat": 4,
  "nbformat_minor": 0,
  "metadata": {
    "colab": {
      "provenance": [],
      "authorship_tag": "ABX9TyPo+NWmqSL8qqynhC3c7xd2",
      "include_colab_link": true
    },
    "kernelspec": {
      "name": "python3",
      "display_name": "Python 3"
    },
    "language_info": {
      "name": "python"
    }
  },
  "cells": [
    {
      "cell_type": "markdown",
      "metadata": {
        "id": "view-in-github",
        "colab_type": "text"
      },
      "source": [
        "<a href=\"https://colab.research.google.com/github/sai-charan-g/neural_metwork_practice/blob/main/backpropogation_NN.ipynb\" target=\"_parent\"><img src=\"https://colab.research.google.com/assets/colab-badge.svg\" alt=\"Open In Colab\"/></a>"
      ]
    },
    {
      "cell_type": "code",
      "execution_count": null,
      "metadata": {
        "id": "ouMDGyS5-V1G"
      },
      "outputs": [],
      "source": [
        "import numpy as np\n",
        "import pandas as pd"
      ]
    },
    {
      "cell_type": "code",
      "source": [
        "X = np.array([[0,0],\n",
        "              [0,1],\n",
        "              [1,0],\n",
        "              [1,1]])\n",
        "y = np.array([[0],\n",
        "              [1],\n",
        "              [1],\n",
        "              [0]])"
      ],
      "metadata": {
        "id": "t0I2bWiS-etm"
      },
      "execution_count": null,
      "outputs": []
    },
    {
      "cell_type": "code",
      "source": [
        "df = pd.DataFrame({\n",
        "    \"X1\": X[:,0],\n",
        "    \"X2\": X[:,1],\n",
        "    \"Y\": y[:,0]\n",
        "})"
      ],
      "metadata": {
        "id": "afizojMtFvaB"
      },
      "execution_count": null,
      "outputs": []
    },
    {
      "cell_type": "code",
      "source": [
        "input_dim = 2\n",
        "hidden_dim = 3\n",
        "output_dim = 1\n",
        "lr = 0.1"
      ],
      "metadata": {
        "id": "CKMWNuSI_lUO"
      },
      "execution_count": null,
      "outputs": []
    },
    {
      "cell_type": "code",
      "source": [
        "np.random.seed(42)"
      ],
      "metadata": {
        "id": "3zVRrZvpDHrC"
      },
      "execution_count": null,
      "outputs": []
    },
    {
      "cell_type": "code",
      "source": [
        "W1 = np.random.uniform(size=(input_dim,hidden_dim))\n",
        "b1 = np.random.uniform(size=(1,hidden_dim))\n",
        "W2 = np.random.uniform(size=(hidden_dim,output_dim))\n",
        "b2 = np.random.uniform(size=(1,output_dim))"
      ],
      "metadata": {
        "id": "1LfryjA0CAA8"
      },
      "execution_count": null,
      "outputs": []
    },
    {
      "cell_type": "code",
      "source": [
        "def sigmoid(x):\n",
        "  return (1/(1+np.exp(-x)))"
      ],
      "metadata": {
        "id": "Svpc8uq3Dx21"
      },
      "execution_count": null,
      "outputs": []
    },
    {
      "cell_type": "code",
      "source": [
        "def sigmoid_derivative(x):\n",
        "    return x * (1 - x)"
      ],
      "metadata": {
        "id": "FxOuTRo-GUrM"
      },
      "execution_count": null,
      "outputs": []
    },
    {
      "cell_type": "code",
      "source": [
        "X[0][0]"
      ],
      "metadata": {
        "colab": {
          "base_uri": "https://localhost:8080/"
        },
        "id": "UcgZydnzEmKM",
        "outputId": "f52df8e3-52f8-4d08-9c2a-946d97eaf71f"
      },
      "execution_count": null,
      "outputs": [
        {
          "output_type": "execute_result",
          "data": {
            "text/plain": [
              "np.int64(0)"
            ]
          },
          "metadata": {},
          "execution_count": 27
        }
      ]
    },
    {
      "cell_type": "markdown",
      "source": [
        "#basic approach"
      ],
      "metadata": {
        "id": "4S4BqQU4HmSB"
      }
    },
    {
      "cell_type": "code",
      "source": [
        "for i in range(len(X)):\n",
        "    x1, x2 = X[i]\n",
        "    target = y[i][0]\n",
        "\n",
        "    hidden_inputs = []\n",
        "    hidden_outputs = []\n",
        "    for j in range(hidden_dim):\n",
        "        h_in = W1[0, j]*x1 + W1[1, j]*x2 + b1[0, j]\n",
        "        h_out = sigmoid(h_in)\n",
        "        hidden_inputs.append(h_in)\n",
        "        hidden_outputs.append(h_out)\n",
        "\n",
        "    o_in = sum(W2[j, 0]*hidden_outputs[j] for j in range(hidden_dim)) + b2[0, 0]\n",
        "    o_out = sigmoid(o_in)\n",
        "\n",
        "    error = target - o_out\n",
        "    d_out = error * sigmoid_derivative(o_out)\n",
        "\n",
        "    for j in range(hidden_dim):\n",
        "        W2[j, 0] += lr * d_out * hidden_outputs[j]\n",
        "    b2[0, 0] += lr * d_out\n",
        "\n",
        "    for j in range(hidden_dim):\n",
        "        d_hidden = d_out * W2[j, 0] * sigmoid_derivative(hidden_outputs[j])\n",
        "        W1[0, j] += lr * d_hidden * x1\n",
        "        W1[1, j] += lr * d_hidden * x2\n",
        "        b1[0, j] += lr * d_hidden\n",
        "\n",
        "    print(f\"Sample {i+1}: Input={X[i]}, Target={target}, Pred={round(o_out,3)}, Error={round(error,3)}\")\n",
        "\n",
        "print(\"\\nUpdated Weights and Biases after 1 iteration:\")\n",
        "print(\"W1:\", W1)\n",
        "print(\"b1:\", b1)\n",
        "print(\"W2:\", W2)\n",
        "print(\"b2:\", b2)\n"
      ],
      "metadata": {
        "colab": {
          "base_uri": "https://localhost:8080/"
        },
        "id": "wV0yQA-vEwCz",
        "outputId": "62683bfe-4908-4966-a67f-7a461de2094b"
      },
      "execution_count": null,
      "outputs": [
        {
          "output_type": "stream",
          "name": "stdout",
          "text": [
            "Sample 1: Input=[0 0], Target=0, Pred=0.807, Error=-0.807\n",
            "Sample 2: Input=[0 1], Target=1, Pred=0.82, Error=0.18\n",
            "Sample 3: Input=[1 0], Target=1, Pred=0.812, Error=0.188\n",
            "Sample 4: Input=[1 1], Target=0, Pred=0.828, Error=-0.828\n",
            "\n",
            "Updated Weights and Biases after 1 iteration:\n",
            "W1: [[0.21182837 0.18135467 0.18258007]\n",
            " [0.30371221 0.5242399  0.43108149]]\n",
            "b1: [[0.29001789 0.61053406 0.13754345]]\n",
            "W2: [[0.28030911]\n",
            " [0.35291131]\n",
            " [0.4447002 ]]\n",
            "b2: [[0.76636335]]\n"
          ]
        }
      ]
    },
    {
      "cell_type": "markdown",
      "source": [
        "#matrix code"
      ],
      "metadata": {
        "id": "Hq2aMqWFHpOn"
      }
    },
    {
      "cell_type": "code",
      "source": [
        "for epoch in range(len(X)):\n",
        "    z1 = np.dot(X, W1) + b1\n",
        "    a1 = sigmoid(z1)\n",
        "\n",
        "    z2 = np.dot(a1, W2) + b2\n",
        "    a2 = sigmoid(z2)\n",
        "\n",
        "    error = y - a2\n",
        "    d_a2 = error * sigmoid_derivative(a2)\n",
        "\n",
        "    error_hidden = d_a2.dot(W2.T)\n",
        "    d_a1 = error_hidden * sigmoid_derivative(a1)\n",
        "\n",
        "    W2 += a1.T.dot(d_a2) * lr\n",
        "    b2 += np.sum(d_a2, axis=0, keepdims=True) * lr\n",
        "    W1 += X.T.dot(d_a1) * lr\n",
        "    b1 += np.sum(d_a1, axis=0, keepdims=True) * lr\n",
        "\n",
        "    loss = np.mean(np.square(error))\n",
        "    print(f\"Epoch {epoch}, Loss: {loss:.4f}\")\n",
        "\n",
        "print(\"\\nFinal predictions after training:\")\n",
        "print(np.round(a2, 3))"
      ],
      "metadata": {
        "colab": {
          "base_uri": "https://localhost:8080/"
        },
        "id": "zbAkMiqhHqtG",
        "outputId": "d51fa397-5e89-4168-c9f6-82117b72cf10"
      },
      "execution_count": null,
      "outputs": [
        {
          "output_type": "stream",
          "name": "stdout",
          "text": [
            "Epoch 0, Loss: 0.3140\n",
            "Epoch 1, Loss: 0.3100\n",
            "Epoch 2, Loss: 0.3060\n",
            "Epoch 3, Loss: 0.3022\n",
            "\n",
            "Final predictions after training:\n",
            "[[0.72 ]\n",
            " [0.733]\n",
            " [0.726]\n",
            " [0.738]]\n"
          ]
        }
      ]
    }
  ]
}